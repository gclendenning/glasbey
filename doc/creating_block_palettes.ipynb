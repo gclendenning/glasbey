{
 "cells": [
  {
   "cell_type": "markdown",
   "id": "3cfaed97",
   "metadata": {},
   "source": [
    "# Creating Block Palettes with Glasbey\n",
    "\n",
    "It is often useful to group categories together into groups and create a colour palette such that each group has different shades of a given colour, and distinct groups have shades of distinct colours. This can be done by gluing together discrtizations of continuous linear palettes -- but that still leaves the problem of selecting distinct linear palettes. The ``glasbey`` library provides a an easy way to create such palettes, using techniques from the paper [*Colour Displays for Categorical Images*](http://onlinelibrary.wiley.com/doi/10.1002/col.20327/abstract) by Glasbey, Heijden, Toh and Gray to provide visual distinctiveness between blocks. To demonstrate this in action we'll need to import the ``glasbey`` library, and to visualize the palettes we create we will use seaborn."
   ]
  },
  {
   "cell_type": "code",
   "execution_count": 1,
   "id": "00304c6e",
   "metadata": {},
   "outputs": [],
   "source": [
    "import glasbey\n",
    "import seaborn as sns\n",
    "\n",
    "sns.set()"
   ]
  },
  {
   "cell_type": "markdown",
   "id": "2a154587",
   "metadata": {},
   "source": [
    "To create a palette with blocks such that each block is built around a main colour, and distinct blocks have visually distinct colours we can call the ``create_block_palette`` function. The function has a single mandatory argument: a list of block sizes. For example, to create a block palette of twelve total colours in three blocks where each block has four colours we would call ``create_block_palette`` as follows:"
   ]
  },
  {
   "cell_type": "code",
   "execution_count": 2,
   "id": "c4a68b05",
   "metadata": {},
   "outputs": [
    {
     "data": {
      "text/plain": [
       "['#1f2500',\n",
       " '#0d6100',\n",
       " '#259834',\n",
       " '#66cd99',\n",
       " '#003f70',\n",
       " '#006dc4',\n",
       " '#2e9cff',\n",
       " '#c5cbff',\n",
       " '#4d001b',\n",
       " '#9f0f1e',\n",
       " '#de3b29',\n",
       " '#ff9640']"
      ]
     },
     "execution_count": 2,
     "metadata": {},
     "output_type": "execute_result"
    }
   ],
   "source": [
    "glasbey.create_block_palette([4, 4, 4])"
   ]
  },
  {
   "cell_type": "markdown",
   "id": "355540c9",
   "metadata": {},
   "source": [
    "To see what this looks like we can visualize the resulting palette using seaborn's ``palplot`` function."
   ]
  },
  {
   "cell_type": "code",
   "execution_count": 3,
   "id": "d33101b9",
   "metadata": {},
   "outputs": [
    {
     "data": {
      "image/png": "[encoded data removed]",
      "text/plain": [
       "<Figure size 1200x100 with 1 Axes>"
      ]
     },
     "metadata": {},
     "output_type": "display_data"
    }
   ],
   "source": [
    "sns.palplot(glasbey.create_block_palette([4, 4, 4]))"
   ]
  },
  {
   "cell_type": "markdown",
   "id": "2a8f98e9",
   "metadata": {},
   "source": [
    "An example of where such a palette might be useful is the well-known [20-newsgroups dataset](https://scikit-learn.org/0.19/datasets/twenty_newsgroups.html), a classic dataset for NLP problems. The dataset collects messages from twenty different newsgroups, with the usla problem being that of successfully predicting the newsgroup of messages. Visualizing the dataset is quite common (see [here](https://topometry.readthedocs.io/en/latest/20Newsgroups_Tutorial.html) and [here](https://umap-learn.readthedocs.io/en/latest/document_embedding.html) and [here](https://vectorizers.readthedocs.io/en/latest/document_vectorization.html) for some examples). The first problem is that it is rare to find palettes with 20 distinct colours. The second catch is that the newsgroups themselves have somewhat overlapping topics. We can group them as follows:\n",
    "\n",
    "* **Computers**:\n",
    " * comp.graphics\n",
    " * comp.os.ms-windows.misc\n",
    " * comp.sys.ibm.pc.hardware\n",
    " * comp.sys.mac.hardware\n",
    " * comp.windows.x\n",
    "* **Science**:\n",
    " * sci.crypt\n",
    " * sci.electronics\n",
    " * sci.med\n",
    " * sci.space\n",
    "* **Politics**:\n",
    " * talk.politics.guns\n",
    " * talk.politics.mideast\n",
    " * talk.politics.misc\n",
    "* **Religion**:\n",
    " * alt.atheism\n",
    " * soc.religion.christian\n",
    " * talk.religion.misc\n",
    "* **Sports**:\n",
    " * rec.sports.baseball\n",
    " * rec.sports.hockey\n",
    "* **Cars and motorcycles**:\n",
    " * rec.autos\n",
    " * rec.motorcycles\n",
    "* **For Sale**:\n",
    " * misc.forsale\n",
    "\n",
    "Ideally we would have a main colour for each group, and distinguish by variations of that colour within each group. The result would be a palette with blocks of various sizes etc. The ``create_block_palette`` is ideal for this as we simply hand it the various sizes of blocks we will need, and can then map the different newsgroups to colours in the relevant blocks. An example block palette for 20-newsgroups might be as follows:"
   ]
  },
  {
   "cell_type": "code",
   "execution_count": 4,
   "id": "5f16a188",
   "metadata": {},
   "outputs": [
    {
     "data": {
      "image/png": "[encoded data removed]",
      "text/plain": [
       "<Figure size 2000x100 with 1 Axes>"
      ]
     },
     "metadata": {},
     "output_type": "display_data"
    }
   ],
   "source": [
    "sns.palplot(glasbey.create_block_palette([5, 4, 3, 3, 2, 2, 1]))"
   ]
  },
  {
   "cell_type": "markdown",
   "id": "41bf212b",
   "metadata": {},
   "source": [
    "As with the other ``glasbey`` functions there are a number of options to tweak and fine-tune  the aesthetic. For example we can vary how much hue and lightness variation we have within each block."
   ]
  },
  {
   "cell_type": "code",
   "execution_count": 5,
   "id": "fad975bc",
   "metadata": {},
   "outputs": [
    {
     "data": {
      "image/png": "[encoded data removed]",
      "text/plain": [
       "<Figure size 2000x100 with 1 Axes>"
      ]
     },
     "metadata": {},
     "output_type": "display_data"
    }
   ],
   "source": [
    "sns.palplot(\n",
    "    glasbey.create_block_palette(\n",
    "        [5, 4, 3, 3, 2, 2, 1], \n",
    "        hue_bend_scale=10.0, \n",
    "        max_hue_bend=80.0, \n",
    "        lightness_bend_scale=12.0, \n",
    "        max_lightness_bend=90.0\n",
    "    )\n",
    ")"
   ]
  },
  {
   "cell_type": "markdown",
   "id": "fb412833",
   "metadata": {},
   "source": [
    "Alternatively, by setting the ``hue_bend_scale`` to 0.0 we can force each block to keep the same hue value. Note how as we adjust the within block parameters the choice of base colour for different blocks varies, since it takes into account all the colours added to each block when generating the next block base colour."
   ]
  },
  {
   "cell_type": "code",
   "execution_count": 6,
   "id": "0bd8e907",
   "metadata": {},
   "outputs": [
    {
     "data": {
      "image/png": "[encoded data removed]",
      "text/plain": [
       "<Figure size 2000x100 with 1 Axes>"
      ]
     },
     "metadata": {},
     "output_type": "display_data"
    }
   ],
   "source": [
    "sns.palplot(\n",
    "    glasbey.create_block_palette(\n",
    "        [5, 4, 3, 3, 2, 2, 1], \n",
    "        hue_bend_scale=0.0, \n",
    "        lightness_bend_scale=12.0, \n",
    "        max_lightness_bend=90.0,\n",
    "        chroma_bend_scale=0.0,\n",
    "    )\n",
    ")"
   ]
  },
  {
   "cell_type": "markdown",
   "id": "9d31c9ae",
   "metadata": {},
   "source": [
    "There are a number of other options, including lightness and chroma bounds for the generated colours, and bounds on the lightness, chroma and hue of the within block colours. This makes it easy to tweak the created palette to meet your exact aesthetic needs realtively quickly and easily.\n",
    "\n",
    "Another example of a good use case can be seen in the palette \"Paired\" from ColorBrewer. This is a popular palette, not least because it has twelve colours (more than many other pre-defined palettes) -- it also pairs up colours, with one light and one dark version of each colour in the palette... "
   ]
  },
  {
   "cell_type": "code",
   "execution_count": 7,
   "id": "c613b341",
   "metadata": {
    "scrolled": true
   },
   "outputs": [
    {
     "data": {
      "text/html": [
       "<svg  width=\"660\" height=\"55\"><rect x=\"0\" y=\"0\" width=\"55\" height=\"55\" style=\"fill:#a6cee3;stroke-width:2;stroke:rgb(255,255,255)\"/><rect x=\"55\" y=\"0\" width=\"55\" height=\"55\" style=\"fill:#1f78b4;stroke-width:2;stroke:rgb(255,255,255)\"/><rect x=\"110\" y=\"0\" width=\"55\" height=\"55\" style=\"fill:#b2df8a;stroke-width:2;stroke:rgb(255,255,255)\"/><rect x=\"165\" y=\"0\" width=\"55\" height=\"55\" style=\"fill:#33a02c;stroke-width:2;stroke:rgb(255,255,255)\"/><rect x=\"220\" y=\"0\" width=\"55\" height=\"55\" style=\"fill:#fb9a99;stroke-width:2;stroke:rgb(255,255,255)\"/><rect x=\"275\" y=\"0\" width=\"55\" height=\"55\" style=\"fill:#e31a1c;stroke-width:2;stroke:rgb(255,255,255)\"/><rect x=\"330\" y=\"0\" width=\"55\" height=\"55\" style=\"fill:#fdbf6f;stroke-width:2;stroke:rgb(255,255,255)\"/><rect x=\"385\" y=\"0\" width=\"55\" height=\"55\" style=\"fill:#ff7f00;stroke-width:2;stroke:rgb(255,255,255)\"/><rect x=\"440\" y=\"0\" width=\"55\" height=\"55\" style=\"fill:#cab2d6;stroke-width:2;stroke:rgb(255,255,255)\"/><rect x=\"495\" y=\"0\" width=\"55\" height=\"55\" style=\"fill:#6a3d9a;stroke-width:2;stroke:rgb(255,255,255)\"/><rect x=\"550\" y=\"0\" width=\"55\" height=\"55\" style=\"fill:#ffff99;stroke-width:2;stroke:rgb(255,255,255)\"/><rect x=\"605\" y=\"0\" width=\"55\" height=\"55\" style=\"fill:#b15928;stroke-width:2;stroke:rgb(255,255,255)\"/></svg>"
      ],
      "text/plain": [
       "[(0.6509803921568628, 0.807843137254902, 0.8901960784313725),\n",
       " (0.12156862745098039, 0.47058823529411764, 0.7058823529411765),\n",
       " (0.6980392156862745, 0.8745098039215686, 0.5411764705882353),\n",
       " (0.2, 0.6274509803921569, 0.17254901960784313),\n",
       " (0.984313725490196, 0.6039215686274509, 0.6),\n",
       " (0.8901960784313725, 0.10196078431372549, 0.10980392156862745),\n",
       " (0.9921568627450981, 0.7490196078431373, 0.43529411764705883),\n",
       " (1.0, 0.4980392156862745, 0.0),\n",
       " (0.792156862745098, 0.6980392156862745, 0.8392156862745098),\n",
       " (0.41568627450980394, 0.23921568627450981, 0.6039215686274509),\n",
       " (1.0, 1.0, 0.6),\n",
       " (0.6941176470588235, 0.34901960784313724, 0.1568627450980392)]"
      ]
     },
     "execution_count": 7,
     "metadata": {},
     "output_type": "execute_result"
    }
   ],
   "source": [
    "sns.color_palette(\"Paired\", 12)"
   ]
  },
  {
   "cell_type": "markdown",
   "id": "62d999e1",
   "metadata": {},
   "source": [
    "But that's only good if you have pairs of categories. Have you ever wanted a \"Tripled\" palette? We can easily generate a twelve colour palette with triples of each hue by simply specifying blocks of three (and we can always tweak aesthetics as above)"
   ]
  },
  {
   "cell_type": "code",
   "execution_count": 8,
   "id": "d4895fd7",
   "metadata": {},
   "outputs": [
    {
     "data": {
      "image/png": "[encoded data removed]",
      "text/plain": [
       "<Figure size 1200x100 with 1 Axes>"
      ]
     },
     "metadata": {},
     "output_type": "display_data"
    }
   ],
   "source": [
    "sns.palplot(glasbey.create_block_palette([3, 3, 3, 3], hue_bend_scale=0.0))"
   ]
  },
  {
   "cell_type": "markdown",
   "id": "7e3be304",
   "metadata": {},
   "source": [
    "But why stop at twelve? We can just as easily generate a nice looking twenty-one colour palette based around triples..."
   ]
  },
  {
   "cell_type": "code",
   "execution_count": 9,
   "id": "21cee479",
   "metadata": {},
   "outputs": [
    {
     "data": {
      "image/png": "[encoded data removed]",
      "text/plain": [
       "<Figure size 2100x100 with 1 Axes>"
      ]
     },
     "metadata": {},
     "output_type": "display_data"
    }
   ],
   "source": [
    "sns.palplot(glasbey.create_block_palette([3, 3, 3, 3, 3, 3, 3], hue_bend_scale=0.0))"
   ]
  },
  {
   "cell_type": "markdown",
   "id": "fc38b0de",
   "metadata": {},
   "source": [
    "Hopefully you can already think of some potential use-cases for block palettes in your own work -- and now you have the tools to easily build and tweak them yourself... or even create them on the fly as needed."
   ]
  }
 ],
 "metadata": {
  "kernelspec": {
   "display_name": "Python [conda env:anaconda3-bokeh_30]",
   "language": "python",
   "name": "conda-env-anaconda3-bokeh_30-py"
  },
  "language_info": {
   "codemirror_mode": {
    "name": "ipython",
    "version": 3
   },
   "file_extension": ".py",
   "mimetype": "text/x-python",
   "name": "python",
   "nbconvert_exporter": "python",
   "pygments_lexer": "ipython3",
   "version": "3.10.6"
  }
 },
 "nbformat": 4,
 "nbformat_minor": 5
}
