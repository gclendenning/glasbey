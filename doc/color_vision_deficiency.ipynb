{
 "cells": [
  {
   "cell_type": "markdown",
   "id": "35da7799-c870-40e1-bde7-4ba68e890c90",
   "metadata": {},
   "source": [
    "# Colour-blind Safe Palettes\n",
    "\n",
    "Colour vision deficiency (a.k.a colour-blindness) is a condition that can effect upward of 5% of the population, and often results in difficulty percieving distinctions between some colours. The most common kinds of colour vision deficiency result in difficulty percieving differences between colours in the re-green range. Glasbey offers some features that can help make created or extended colour palettes more easily distinguished by those with some degree of colour vision deficiency. \n",
    "\n",
    "It should be noted that the methods used in Glasbey can at best aid in the creation of palettes that are *more* accessible to individuals with colour vision deficiency. Just as a large enough palette will result in some colours that are hard to distinguish without colour vision deficiency, even using the options described here cannot ensure that individuals with colour vision deficiency will not have any difficulty distinguishing among colours in the palettes created.\n",
    "\n",
    "To demonstrate some examples of palettes that are more assessible to individuals with colour vision deficiency we'll need to import glasbey, and to visualize the colour palettes we'll use seaborn."
   ]
  },
  {
   "cell_type": "code",
   "execution_count": 1,
   "id": "d97ecaf8-f8d6-4c4b-b08d-cb5d3925db79",
   "metadata": {},
   "outputs": [],
   "source": [
    "import glasbey\n",
    "import seaborn as sns\n",
    "\n",
    "sns.set()"
   ]
  },
  {
   "cell_type": "markdown",
   "id": "8e972edb-3033-46e8-a20b-63d3d2c5578a",
   "metadata": {},
   "source": [
    "The most basic option, available in all the standard `glasbey` functions (`create_palette`, `extend_palette` and `create_block_palette`), is to set the option `colorblind_safe=True`. "
   ]
  },
  {
   "cell_type": "code",
   "execution_count": 2,
   "id": "75661a01-b2bd-4179-a779-1be7f6ebac2a",
   "metadata": {},
   "outputs": [
    {
     "data": {
      "image/png": "[encoded data removed]",
      "text/plain": [
       "<Figure size 1200x100 with 1 Axes>"
      ]
     },
     "metadata": {},
     "output_type": "display_data"
    }
   ],
   "source": [
    "palette = glasbey.create_palette(palette_size=12, colorblind_safe=True)\n",
    "sns.palplot(palette)"
   ]
  },
  {
   "cell_type": "markdown",
   "id": "748e89c4-317d-4b96-9714-7d758d928260",
   "metadata": {},
   "source": [
    "Note how the resulting palette selects reds and blues first, before eventually selecting greens, but attempts to use lightness contrast among those to make them more distinguishable. The default `colorblind_safe=True` options simulates only mild colour vision deficiency of the most common variety. To be robust against more severe cases of colour vision deficiency you can use the `cvd_severity` option, which takes values between 0, for essentially no deficiency, through to 100, which represents the most severe cases."
   ]
  },
  {
   "cell_type": "code",
   "execution_count": 3,
   "id": "aca841bf-08c4-4d3f-a264-f6ffd30d51da",
   "metadata": {},
   "outputs": [
    {
     "data": {
      "image/png": "[encoded data removed]",
      "text/plain": [
       "<Figure size 1200x100 with 1 Axes>"
      ]
     },
     "metadata": {},
     "output_type": "display_data"
    }
   ],
   "source": [
    "palette = glasbey.create_palette(palette_size=12, colorblind_safe=True, cvd_severity=100)\n",
    "sns.palplot(palette)"
   ]
  },
  {
   "cell_type": "markdown",
   "id": "29c0dbd3-6d73-401e-beec-aaf386f7d154",
   "metadata": {},
   "source": [
    "Note that this biasing of palette choices may make the resulting palette less accessible to those without colour vision deficiency than it might otherwise be -- since the options for colour choices are more constrained.\n",
    "\n",
    "It is also possible to create a palette using simulations of other types of colour vision deficiency. The default option is the most common type: \"deuteranomaly\", but the `cvd_type` option can be used to specify \"protanomaly\" or \"tritanomaly\" which are a more rare red-green colorblindness, and an extremely rare blue-yellow colorblindness."
   ]
  },
  {
   "cell_type": "code",
   "execution_count": 4,
   "id": "0c158fe0-8def-4553-9380-5ce19e929f91",
   "metadata": {},
   "outputs": [
    {
     "data": {
      "image/png": "[encoded data removed]",
      "text/plain": [
       "<Figure size 1200x100 with 1 Axes>"
      ]
     },
     "metadata": {},
     "output_type": "display_data"
    }
   ],
   "source": [
    "palette = glasbey.create_palette(\n",
    "    palette_size=12, \n",
    "    colorblind_safe=True, \n",
    "    cvd_type=\"protanomaly\",\n",
    "    cvd_severity=100\n",
    ")\n",
    "sns.palplot(palette)"
   ]
  },
  {
   "cell_type": "code",
   "execution_count": 5,
   "id": "43cc6110-0a61-4404-8883-c28a5acf9924",
   "metadata": {},
   "outputs": [
    {
     "data": {
      "image/png": "[encoded data removed]",
      "text/plain": [
       "<Figure size 1200x100 with 1 Axes>"
      ]
     },
     "metadata": {},
     "output_type": "display_data"
    }
   ],
   "source": [
    "palette = glasbey.create_palette(\n",
    "    palette_size=12, \n",
    "    colorblind_safe=True, \n",
    "    cvd_type=\"tritanomaly\",\n",
    "    cvd_severity=100\n",
    ")\n",
    "sns.palplot(palette)"
   ]
  },
  {
   "cell_type": "markdown",
   "id": "38313a51-1cfa-4aff-8ebe-1adeb98100fd",
   "metadata": {},
   "source": [
    "These same options apply to the `extend_palette` and `create_block_palette` functions, although in those cases there are other colours involved (from the source palette, or the range of colours selected in a block) that make the problem even more challenging."
   ]
  },
  {
   "cell_type": "code",
   "execution_count": 6,
   "id": "99323052-8101-40a9-9519-c968e5830883",
   "metadata": {},
   "outputs": [
    {
     "data": {
      "image/png": "[encoded data removed]",
      "text/plain": [
       "<Figure size 1500x100 with 1 Axes>"
      ]
     },
     "metadata": {},
     "output_type": "display_data"
    }
   ],
   "source": [
    "palette = glasbey.extend_palette(\n",
    "    \"tab10\", \n",
    "    palette_size=15, \n",
    "    colorblind_safe=True, \n",
    "    cvd_severity=100\n",
    ")\n",
    "sns.palplot(palette)"
   ]
  },
  {
   "cell_type": "code",
   "execution_count": 7,
   "id": "6c8b5043-34c2-49b4-83a5-804a0a76b68f",
   "metadata": {},
   "outputs": [
    {
     "data": {
      "image/png": "[encoded data removed]",
      "text/plain": [
       "<Figure size 1400x100 with 1 Axes>"
      ]
     },
     "metadata": {},
     "output_type": "display_data"
    }
   ],
   "source": [
    "palette = glasbey.create_block_palette(\n",
    "    [4, 3, 3, 2, 2],\n",
    "    colorblind_safe=True, \n",
    "    cvd_severity=100\n",
    ")\n",
    "sns.palplot(palette)"
   ]
  }
 ],
 "metadata": {
  "kernelspec": {
   "display_name": "Python 3 (ipykernel)",
   "language": "python",
   "name": "python3"
  },
  "language_info": {
   "codemirror_mode": {
    "name": "ipython",
    "version": 3
   },
   "file_extension": ".py",
   "mimetype": "text/x-python",
   "name": "python",
   "nbconvert_exporter": "python",
   "pygments_lexer": "ipython3",
   "version": "3.9.15"
  }
 },
 "nbformat": 4,
 "nbformat_minor": 5
}
